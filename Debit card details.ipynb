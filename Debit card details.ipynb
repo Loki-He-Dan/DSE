{
 "cells": [
  {
   "cell_type": "code",
   "execution_count": 4,
   "metadata": {},
   "outputs": [
    {
     "name": "stdout",
     "output_type": "stream",
     "text": [
      "Do you want to access your account? (Yes/No) Yes\n",
      "Enter your card number: 1234567891234568\n",
      "Enter expiry Month: 5\n",
      "Enter expiry year : 2024\n",
      "1234567891234568\n",
      "Enter mobile number: 9876543238\n",
      "{1234567891234568: {'Name': 'Dan', 'Mobile No. ': 9876543238, 'CVV': 646}}\n"
     ]
    }
   ],
   "source": [
    "#--------------------------------------Home Page------------------------------------------------------        \n",
    "def home():\n",
    "    status = None\n",
    "    for accounts in bank_dict:\n",
    "        if accounts == Card_No:\n",
    "            status = True\n",
    "            break\n",
    "        else:\n",
    "            status = False\n",
    "            \n",
    "    if status == True:\n",
    "        date_exp()\n",
    "    else:\n",
    "        print('Account number cannot be found')\n",
    "        \n",
    "            \n",
    "#-----------------------------Checking expiration------------------------------------------------\n",
    "def date_exp():\n",
    "    month = int(input('Enter expiry Month: '))\n",
    "    if month >= 1 and month <=12:\n",
    "        year = int(input('Enter expiry year : '))\n",
    "        if year >= 2020:\n",
    "            cell()\n",
    "        elif year < 2020: \n",
    "            print('The card is expired')\n",
    "    else:\n",
    "        print('Provide a valid number')\n",
    "          \n",
    " #---------------------------------Generate CVV and forming dictionary---------------------------------------------------\n",
    "def cvv():\n",
    "    from random import randint\n",
    "    value = randint(100,999)\n",
    "    client_show[Card_No]['CVV'] = value\n",
    "    \n",
    "#----------------------------------Generating Output-------------------------------------------------------------\n",
    "            \n",
    "    print(client_show)\n",
    "    \n",
    "        \n",
    "#------------------------------Receiving cell phone numbers---------------------------------------\n",
    "def cell():\n",
    "    print(Card_No)\n",
    "    mob_num = int(input('Enter mobile number: '))\n",
    "    if mob_num == bank_dict[Card_No]['Num']:\n",
    "        client_show[Card_No]['Name'] = bank_dict[Card_No]['Name']\n",
    "        client_show[Card_No]['Mobile No. '] = mob_num\n",
    "        cvv()\n",
    "    else:\n",
    "        print('Incorrect Mobile number')\n",
    "        \n",
    "\n",
    "        \n",
    "#-------------------------------------Execution---------------------------------------------------\n",
    "bank_dict = {12345678912345:{'Num' : 9876543210, 'Name':'Loki'}, 12345678912346:{'Num' : 9876543230, 'Name' :'Larry'},\n",
    "             1234567891234567:{'Num' : 9876543219, 'Name': 'Mike'},1234567891234568:{'Num': 9876543238, 'Name':'Dan'},\n",
    "             12345678912348:{'Num': 9874563697,'Name':'Sam'}}\n",
    "\n",
    "User_input = input('Do you want to access your account? (Yes/No) ')\n",
    "\n",
    "if User_input.lower() == 'yes':\n",
    "    Card_No = int(input('Enter your card number: '))\n",
    "    client_show = {Card_No : {}}\n",
    "    home()\n",
    "elif User_input.lower() == 'no':\n",
    "    print('Thank you')\n",
    "else:\n",
    "    print('Please type a valid answer')\n",
    "\n",
    "    \n",
    "    "
   ]
  },
  {
   "cell_type": "code",
   "execution_count": null,
   "metadata": {},
   "outputs": [],
   "source": [
    "\n"
   ]
  },
  {
   "cell_type": "code",
   "execution_count": null,
   "metadata": {},
   "outputs": [],
   "source": []
  }
 ],
 "metadata": {
  "kernelspec": {
   "display_name": "Python 3",
   "language": "python",
   "name": "python3"
  },
  "language_info": {
   "codemirror_mode": {
    "name": "ipython",
    "version": 3
   },
   "file_extension": ".py",
   "mimetype": "text/x-python",
   "name": "python",
   "nbconvert_exporter": "python",
   "pygments_lexer": "ipython3",
   "version": "3.7.4"
  }
 },
 "nbformat": 4,
 "nbformat_minor": 2
}
